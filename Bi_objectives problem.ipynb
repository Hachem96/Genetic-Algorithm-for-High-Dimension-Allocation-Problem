{
 "cells": [
  {
   "cell_type": "markdown",
   "metadata": {},
   "source": [
    "## Bi_objectives problem"
   ]
  },
  {
   "cell_type": "markdown",
   "metadata": {},
   "source": [
    "solve the bi-objective optimization problem of this project, we will separate the problem in two mono-objective optimization problems. The first one is the maximization of the degrees sum without the consideration of cost objective as we did in the previous chapter, and the second is minimization of the cost without the consideration of the first objective. In the first problem, the cost of the best founded solution will be calculated and vise versa in the second.\n",
    "<br>\n",
    "<br>The aim of this separation is to ensure the diversification in the set of solutions will be used to get the Pareto front. In this way, we will have group of points that they have high values of degree and cost. Another group has low values of cost and degree and a third group lies between the first two.\n",
    "<br>\n",
    "<br>We will implement two algorithms to solve the 2 problems separately.\n",
    "<br>In both algorithms, we will save all the individuals that respect all the constraints. These point will be used to extract the Pareto front.\n"
   ]
  },
  {
   "cell_type": "code",
   "execution_count": 3,
   "metadata": {},
   "outputs": [],
   "source": [
    "using CSV\n",
    "using DataFrames\n",
    "using StringEncodings\n",
    "using RDatasets \n",
    "using BenchmarkTools\n",
    "using Distributions\n",
    "using Dates\n",
    "import Dates\n",
    "using SparseArrays, SharedArrays\n",
    "using Distributed\n",
    "using Base.Threads"
   ]
  },
  {
   "cell_type": "markdown",
   "metadata": {},
   "source": [
    "## Readt_data\n",
    "The function belows reads each file, a is the path of data, data is a output matrix"
   ]
  },
  {
   "cell_type": "code",
   "execution_count": 4,
   "metadata": {},
   "outputs": [
    {
     "data": {
      "text/plain": [
       "read_data (generic function with 1 method)"
      ]
     },
     "execution_count": 4,
     "metadata": {},
     "output_type": "execute_result"
    }
   ],
   "source": [
    "\n",
    "function read_data(a)\n",
    "    f=open(a,\"r\")\n",
    "    s=StringDecoder(f,\"LATIN1\", \"UTF-8\")\n",
    "    data= CSV.read(s)\n",
    "    close(s)\n",
    "    close(f)\n",
    "    return data\n",
    "end\n",
    "    "
   ]
  },
  {
   "cell_type": "markdown",
   "metadata": {},
   "source": [
    "## Create_features\n",
    "This function takes the path of two files: features of functions after the preprocessing (functionswithdomains), and the connection between the controllers. \n",
    "<br> It returns several matrix analyzed and created from these set of data.\n",
    "<br>\n",
    "<br> The output of this function are:\n",
    "* <b>G</b> is a matrix of dimension n by m. n is the number of functions and m equals to the number of controllers. It represents the adequacy degree for each function to each controller. These data are taken from the functionWithDomain file. \n",
    "* <b>id1 and id2</b> represent respectively the index of the functions that already allocated and not allocated.\n",
    "The id of functions that have one choice in DejaAllouees attribute of functionWithDomain are added to id1 and the remains functions are allocated to id2. In another way:\n",
    "<br> id1 has length equals to number of allocated functions.\n",
    "<br> id2 has length equals to the number of non allocated functions.\n",
    "* <b>type_ctr_connection</b> is a matrix of dimension a by a, where a is the number of controllers. This Matrix represents the type of connection between the controllers. The value of type_ctr_connection[i,j] can be 0,1,2 and 3. \n",
    "<br>&nbsp;&nbsp;    0: controllers i and j can not be connected.\n",
    "<br>&nbsp;&nbsp;    1: controller i can only transmit data to controller j (first way of communication).\n",
    "<br>&nbsp;&nbsp;    2: controller i can only receive data from controller j (second way of communication).\n",
    "<br>&nbsp;&nbsp;    3: controller i can be connected in both ways to controller j. \n",
    "This array is created in depending on the file contains the communication values between the controllers (connection_ctr).\n",
    "* <b>remain_connection_ctr</b> is a matrix of dimension a by a, where a is the number of controllers. It contains the remaining capacity communication between the controllers. The calculation of this matrix is done by 2 steps:\n",
    "<br>&nbsp;&nbsp;    1. By calculating the communication values between the functions assigned to different controllers. \n",
    "<br>&nbsp;&nbsp;    2. Substracting connection_ctr from the matrix calculated in the first step.\n",
    "* <b>output_f,output_weight</b> are two arrays of dimensional n by k, where n is the number of functions and k is the maximum number of functions that a function is connected to them by the first way of communication (output connections).\n",
    "<br>&nbsp;&nbsp;    Each row i in output_f represents id of functions that received data from function i.\n",
    "<br>&nbsp;&nbsp;    output_weight contains the communication values of the communication represented in output_f. \n",
    "<br>&nbsp; These two arrays are created using outputN1 and PoidsOutut1 columns existed in functionWithDomain file. \n",
    "* <b>input_f,input_weight</b> are as the two previous array, but they represent the second way of communication instead of the first one for each function. Also these two matrix are created using InputN1 and PoidsInput1 features existed in functionWithDomain file. \n",
    "* <b> nb_connections</b> is a vector of length equals to number of functions non allocated and represents the number of connections for each function"
   ]
  },
  {
   "cell_type": "code",
   "execution_count": 5,
   "metadata": {},
   "outputs": [
    {
     "data": {
      "text/plain": [
       "create_features (generic function with 1 method)"
      ]
     },
     "execution_count": 5,
     "metadata": {},
     "output_type": "execute_result"
    }
   ],
   "source": [
    "function create_features(m,q)\n",
    "    F1 = read_data(m); # FunctionsWithDomains\n",
    "    connection_ctr1 = read_data(q); #controllers_connection\n",
    "\n",
    "    \"convert connection controllers to 2d array\"\n",
    "    connection_ctr = connection_ctr1[1:size(connection_ctr1,1),2:size(connection_ctr1,2)];\n",
    "    connection_ctr =convert(Matrix,connection_ctr);\n",
    "    controllers = String.(names(connection_ctr1));  # get the name vector of the controllers\n",
    "    controllers = controllers[2:length(controllers)];\n",
    "    #\n",
    "    #\n",
    "    nb_ctr = length(controllers);  \"nb_ctr: number of controllers\" \n",
    "    choixprefere = F1.ChoixPrefere;  \"the attribute Choix prefere (contains numbers)\"\n",
    "    nb_f = length(choixprefere);  \"nb_f: number of functions\"\n",
    "    allowed_f = F1.DejaAllouee; \"get DejaAllouee attribute (contains name of controllers)\"\n",
    "    \n",
    "    \"creat connection matrix \n",
    "    output1 is vector of length nb_f represents the output connections for each function\n",
    "    weights_output is the values of the output connections\n",
    "    input1 is vector of length nb_f represents the input connections for each function\n",
    "    weights_input is the values of the input connections\n",
    "    temp is a vector of length nb_f represents the number of connections for each function\"\n",
    "    \n",
    "    output1 =  F1.outputN1; \n",
    "    weights_output = F1.PoidsOutputN1; \n",
    "    input1 = F1.inputN1; \n",
    "    weights_input = F1.PoidsInuputN1;\n",
    "    max_out = 0;\n",
    "    max_in = 0;\n",
    "    temp = zeros(Int,nb_f);\n",
    "    \n",
    "    for i in 1:nb_f\n",
    "        \"calculate maximum of out connections\"\n",
    "        inputs = output1[i];\n",
    "        if length(inputs)!=2  \"output1[i] different from [], it is not empty\"\n",
    "            inputs = inputs[2:length(inputs)-1]; \"to remove [] from output[i]\"\n",
    "            inputs = split(inputs,\";\");\n",
    "            inputs = [parse(Int, x) for x in inputs];  \"convert from string to int\"\n",
    "            temp[i] += length(inputs);   \"add output connections\"\n",
    "            if(length(inputs)>max_out)\n",
    "                max_out = length(inputs);\n",
    "            end\n",
    "        end\n",
    "        \"calculate maximum of input connections\"\n",
    "        inputs = input1[i];\n",
    "        if length(inputs)!=2  \"input1[i] is not empty\" \n",
    "            inputs = inputs[2:length(inputs)-1];\n",
    "            inputs = split(inputs,\";\");\n",
    "            inputs = [parse(Int, x) for x in inputs];\n",
    "            temp[i] += length(inputs);   \"add input connections\"\n",
    "            if(length(inputs)>max_in)\n",
    "                max_in = length(inputs);\n",
    "            end\n",
    "        end\n",
    "    end\n",
    "    \n",
    "    output_f =  zeros(Int,nb_f,max_out);  \"create output_f\" \n",
    "    output_weight = zeros(Int,nb_f,max_out); \"create output_weight\"\n",
    "    input_f = zeros(Int,nb_f,max_in);\n",
    "    input_weight = zeros(Int,nb_f,max_in);\n",
    "    #\n",
    " \"this for loop is to determine the functions connected in both ways to each function and the weights of these connections\n",
    "     first one is for output connections\n",
    "     second on is for input connections\"\n",
    "    for i in 1:nb_f\n",
    "        \"output connections\"\n",
    "        inputs = output1[i];\n",
    "        weight = weights_output[i];\n",
    "        if length(inputs)!=2\n",
    "            inputs = inputs[2:length(inputs)-1];\n",
    "            inputs = split(inputs,\";\");\n",
    "            inputs = [parse(Int, x) for x in inputs];\n",
    "            weight = weight[2:length(weight)-1];\n",
    "            weight = split(weight,\";\");\n",
    "            weight = [parse(Int, x) for x in weight];\n",
    "\n",
    "            for j in 1:length(inputs)\n",
    "                output_f[i,j] = inputs[j]+1;\n",
    "                output_weight[i,j] = weight[j];\n",
    "            end\n",
    "        end\n",
    "        \"input connections\"\n",
    "        inputs = input1[i];\n",
    "        weight = weights_input[i];\n",
    "        if length(inputs)!=2\n",
    "            inputs = inputs[2:length(inputs)-1];\n",
    "            inputs = split(inputs,\";\");\n",
    "            inputs = [parse(Int, x) for x in inputs];\n",
    "            weight = weight[2:length(weight)-1];\n",
    "            weight = split(weight,\";\");\n",
    "            weight = [parse(Int, x) for x in weight];\n",
    "            for j in 1:length(inputs)\n",
    "                input_f[i,j] = inputs[j]+1;\n",
    "                input_weight[i,j] = weight[j];\n",
    "            end\n",
    "        end\n",
    "    end\n",
    "    #\n",
    "    #\n",
    "    G = zeros(Int,nb_f,nb_ctr);\n",
    "    id1 = zeros(Int,0);\n",
    "    id2 = zeros(Int,0);\n",
    "    for i in 1:nb_f \n",
    "        groups = allowed_f[i];   \"get the name of controllers allowod to  function i\"\n",
    "        choix = choixprefere[i]; \"get the degrees of controllers allowed to  function i\"\n",
    "        choix = choix[2:length(choix)-1];\n",
    "        choix = split(choix,\";\");\n",
    "        choix = [parse(Int, x) for x in choix];\n",
    "                        \n",
    "        groups = groups[2:length(groups)-1];\n",
    "        groups = split(groups,\";\");\n",
    "        if (length(choix)==1)  \"choix = a ( one number),  function i is allocated\"\n",
    "            id1 = append!(id1,i);\n",
    "            group = findall(x-> x==groups[1],controllers); \"find the index of controller where function i is allocated\"\n",
    "            G[i,group] = choix; \n",
    "        \"if the function i is not allocated\"\n",
    "        else  \n",
    "            for j in 1:length(choix)\n",
    "                \"find the index of each controller allowed to function i  and add its degree G[i,:]\"\n",
    "                index_weight = findall(x-> x==groups[j],controllers);\n",
    "                G[i,index_weight[1]] = choix[j];\n",
    "            end\n",
    "            id2 = append!(id2,i);\n",
    "        end\n",
    "    end\n",
    "    \n",
    "    \"connection_G1 is a matrix of dimension nb_ctr by nb_ctr. \n",
    "    It contains the values of connections between the allocated functions.\"\n",
    "    \n",
    "    connection_G1 = zeros(Int,nb_ctr,nb_ctr);\n",
    "    # connection between G1\n",
    "    \n",
    "    \"the first for loop is to pass through all the functions\n",
    "    the first if is to verify that the function is allocated\n",
    "    second for loop is to pass through all the output connections of the allocated function\n",
    "    second if is to verify that the connected function to function i is not zero and allocated\"\n",
    "    for i in 1:nb_f\n",
    "        if (length(findall(x-> x!=0,G[i,1:nb_ctr]))==1)\n",
    "            for j in  1:size(output_f,2) \n",
    "                if (output_weight[i,j]!=0) && (length(findall(x-> x!=0,G[output_f[i,j],1:nb_ctr]))==1) \n",
    "                        a = findall(x-> x!=0,G[i,1:nb_ctr]); \"find the group of function i\" \n",
    "                        b = findall(x-> x!=0,G[output_f[i,j],1:nb_ctr]); \"find the group of connected function\"\n",
    "                        if(a[1]!=b[1])  \"if the 2 functions are not in the same controller\"\n",
    "                            connection_G1[a[1],b[1]] += output_weight[i,j];\n",
    "                        end\n",
    "                end\n",
    "            end\n",
    "        end\n",
    "    end\n",
    "    \n",
    "    \"calculate the remain capacity connections between the controllers\"\n",
    "    remain_connection_ctr = connection_ctr - connection_G1;\n",
    "  \n",
    "    type_ctr_connection = zeros(Int,nb_ctr,nb_ctr);\n",
    "    for i in 1:nb_ctr\n",
    "        for j in 1:nb_ctr\n",
    "            if((connection_ctr[i,j] !=0) && (connection_ctr[j,i] !=0))\n",
    "                type_ctr_connection[i,j] = type_ctr_connection[j,i] = 3;\n",
    "            elseif ((connection_ctr[i,j] !=0) && (connection_ctr[j,i] ==0))\n",
    "                    type_ctr_connection[i,j] = 1;\n",
    "            elseif ((connection_ctr[i,j] ==0) && (connection_ctr[j,i] !=0))\n",
    "                    type_ctr_connection[i,j] = 2;\n",
    "            else\n",
    "                    type_ctr_connection[i,j]  = 0;\n",
    "            end\n",
    "        end\n",
    "    end\n",
    "    nb_connections = temp[id2];\n",
    "    return G,id1,id2,type_ctr_connection,remain_connection_ctr,output_f,output_weight,input_f,input_weight,nb_connections;\n",
    "end"
   ]
  },
  {
   "cell_type": "markdown",
   "metadata": {},
   "source": [
    "## Evaluation_degree\n",
    "Evaluation_degree fitness function of the maximum degree problem\n",
    "<br>This function take as input path of choixprefere column from functionwithDomain file, population(pop), the output of creat_features function and the upper bound of the study case (up_bound)\n",
    "<br> It calculates the fitness function of all the individuals and returns:\n",
    "* <b> y:</b> vector of length equals to population size, it contains the result of the fitness function.\n",
    "* <b> points:</b> contains the degree and the cost of all the individuals that respect all the constraints."
   ]
  },
  {
   "cell_type": "code",
   "execution_count": 6,
   "metadata": {},
   "outputs": [
    {
     "data": {
      "text/plain": [
       "evaluation_degree (generic function with 1 method)"
      ]
     },
     "execution_count": 6,
     "metadata": {},
     "output_type": "execute_result"
    }
   ],
   "source": [
    "\n",
    "function evaluation_degree(choixprefere,G,pop,type_ctr_connection,remain_connection_ctr,up_bound,output_f,output_weight,\n",
    "                    input_f,input_weight,cost_ctr)\n",
    "    y = zeros(collect(size(pop))[1]);\n",
    "    degree = zeros(Int,collect(size(pop))[1]);\n",
    "    cost_ind = zeros(Int,collect(size(pop))[1]);\n",
    "    \"nb_ctr is number of controllers\n",
    "    violate_f represents the number of functions that can not do all their connections \n",
    "    without the violation of the connection constraints between the controllers in each individual .It has length\n",
    "    equals to population size.\n",
    "    violate_capacity represents the values of connections betweenn the controllers\n",
    "    that exceed the limit in each individual\"\n",
    "    \n",
    "    nb_ctr = collect(size(connection_ctr))[1];\n",
    "    violate_f = zeros(Int,collect(size(pop))[1]);\n",
    "    violate_capacity = zeros(Int,collect(size(pop))[1]);\n",
    "    \n",
    "    \"first for loop to visit each individual\"\n",
    "    for i in 1:size(pop,1) \n",
    "        capacity_ctr = zeros(Int,nb_ctr,nb_ctr); \"connection capacity between the functions for individual i\"\n",
    "        \"second fo loop to visit each function in each individual\"\n",
    "        for j in 1:size(pop,2)  \n",
    "            \"verify the output connections\"\n",
    "            l = 0;\n",
    "            if(length(choixprefere[j])!=3)  \"if the function is not allocated\"\n",
    "                inputs = output_f[j,:]; \n",
    "                weight = output_weight[j,:];\n",
    "                for k in 1:length(inputs) \"visit the connected functions to function j\"\n",
    "                    if(weight[k]==0)  \"means no more connection or there is no connection\"\n",
    "                        break;\n",
    "                    elseif (pop[i,j]!=pop[i,inputs[k]]) \"if j and the connected f are in different controllers\"\n",
    "                        \"pop[i,j]: controller of function j\n",
    "                         pop[i,inputs[k]] controller of function connected to j\"\n",
    "                        \n",
    "                        capacity_ctr[pop[i,j],pop[i,inputs[k]]] += weight[k];  \n",
    "                            \n",
    "                        \"the if below is to verify that the 2 functions are in 2 controllers \n",
    "                        can be connected in one direction\"\n",
    "                            \n",
    "                        if((type_ctr_connection[pop[i,j],pop[i,inputs[k]]] == 2) || \n",
    "                                (type_ctr_connection[pop[i,j],pop[i,inputs[k]]]== 0))\n",
    "                                    if(l==0)  \"function j until now has not violated the \n",
    "                                                connectivty with any of its output connected functions\"\n",
    "                                        l = 1;\n",
    "                                        violate_f[i] += 1;\n",
    "                                    end\n",
    "                            end\n",
    "                    end   \n",
    "                end\n",
    "        \n",
    "                \"verify function j not allocated  can receive data from functions already allocated\"\n",
    "           \n",
    "                inputs = input_f[j,:];\n",
    "                weight = input_weight[j,:];\n",
    "                for k in 1:length(inputs)\n",
    "                    if (weight[k]==0)\n",
    "                        break;\n",
    "                    elseif(length(choixprefere[inputs[k]])==3)  \"if the function that send data to function j is allocated\"\n",
    "                            if(pop[i,j]!=pop[i,inputs[k]]) \"if the functions are not in the same group\"\n",
    "                                capacity_ctr[pop[i,inputs[k]],pop[i,j]] += weight[k];\n",
    "                                if((type_ctr_connection[pop[i,j],pop[i,inputs[k]]] == 1) ||\n",
    "                                    (type_ctr_connection[pop[i,j],pop[i,inputs[k]]]== 0))\n",
    "                                    \"if function j has not violated any constraint of connectivity yet\"\n",
    "                                    if(l==0)\n",
    "                                        l = 1;\n",
    "                                        violate_f[i] += 1;\n",
    "                                    end\n",
    "                                end\n",
    "                            end\n",
    "\n",
    "                    end\n",
    "                end\n",
    "            end\n",
    "            #\n",
    "            \"if function j respect all the connectivity constraints\"\n",
    "            if(l==0)\n",
    "                degree[i] += G[j,pop[i,j]];\n",
    "                cost_ind[i] += cost_ctr[pop[i,j]];\n",
    "            end\n",
    "        end \n",
    "        \"end of second loop\"  \n",
    "        \"calculate the remaining capacity between the controllers\"\n",
    "        capacity_ctr = connection_ctr - capacity_ctr;\n",
    "        for k in 1:nb_ctr\n",
    "            for z in 1:nb_ctr\n",
    "                \"verify if any remain capacity is negative if initially this capacity is not zero\"\n",
    "                if(capacity_ctr[k,z]<0) && (connection_ctr[k,z]!=0)\n",
    "                    violate_capacity[i] += -capacity_ctr[k,z]\n",
    "                end\n",
    "            end\n",
    "        end\n",
    "    end\n",
    "    y = degree./up_bound;\n",
    "    y = y - violate_f./(maximum(violate_f)+1);\n",
    "    y = y - violate_capacity./(maximum(violate_capacity)+1);\n",
    "    temp = violate_f .* violate_capacity;\n",
    "    \"z is the indices of all the individuals that respect all the constraints\"\n",
    "    z = findall(x-> x==0,temp);\n",
    "    points = zeros(length(z),2)\n",
    "    points[:,1] .= degree[z];\n",
    "    points[:,2] .= cost_ind[z];\n",
    "    return y,points\n",
    "end"
   ]
  },
  {
   "cell_type": "markdown",
   "metadata": {},
   "source": [
    "## Evaluation_cost\n",
    "Evaluation_cost fitness function of the minimum cost problem\n",
    "<br>This function take as input path of choixprefere column from functionwithDomain file, population(pop), the output of creat_features function and the upper bound of the study case (up_bound)\n",
    "<br> It calculates the fitness function of all the individuals and returns:\n",
    "* <b> y:</b> vector of length equals to population size, it contains the result of the fitness function.\n",
    "* <b> points:</b> contains the degree and the cost of all the individuals that respect all the constraints."
   ]
  },
  {
   "cell_type": "code",
   "execution_count": 7,
   "metadata": {},
   "outputs": [
    {
     "data": {
      "text/plain": [
       "evaluation_cost (generic function with 1 method)"
      ]
     },
     "execution_count": 7,
     "metadata": {},
     "output_type": "execute_result"
    }
   ],
   "source": [
    "\n",
    "function evaluation_cost(choixprefere,G,pop,type_ctr_connection,remain_connection_ctr,up_bound,output_f,output_weight,\n",
    "                    input_f,input_weight,cost_ctr)\n",
    "    \"cost_ctr is the installation cost of each controller. Its length equals to number of controllers\"\n",
    "    y = zeros(collect(size(pop))[1]);\n",
    "    degree = zeros(Int,collect(size(pop))[1]);\n",
    "    \n",
    "    \"nb_ctr is number of controllers\n",
    "    violate_f represents the number of functions that can not do all their connections \n",
    "    without the violation of the connection constraints between the controllers in each individual .It has length\n",
    "    equals to population size.\n",
    "    violate_capacity represents the values of connections betweenn the controllers\n",
    "    that exceed the limit in each individual\n",
    "    cost_ind represents the total cost of each individual\"\n",
    "    \n",
    "    \n",
    "    nb_ctr = collect(size(connection_ctr))[1];\n",
    "    violate_f = zeros(Int,collect(size(pop))[1]);\n",
    "    violate_capacity = zeros(Int,collect(size(pop))[1]);\n",
    "    cost_ind = zeros(Int,collect(size(pop))[1]);\n",
    "    \n",
    "    \"first for loop to visit each individual\"\n",
    "    for i in 1:size(pop,1) \n",
    "        capacity_ctr = zeros(Int,nb_ctr,nb_ctr); \"connection capacity between the functions for individual i\"\n",
    "        \"second fo loop to visit each function in each individual\"\n",
    "        for j in 1:size(pop,2)  \n",
    "            \"verify the output connections\"\n",
    "            l = 0;\n",
    "            if(length(choixprefere[j])!=3)  \"if the function is not allocated\"\n",
    "                inputs = output_f[j,:]; \n",
    "                weight = output_weight[j,:];\n",
    "                for k in 1:length(inputs) \"visit the connected functions to function j\"\n",
    "                    if(weight[k]==0)  \"means no more connection or there is no connection\"\n",
    "                        break;\n",
    "                    elseif (pop[i,j]!=pop[i,inputs[k]]) \"if j and the connected f are in different controllers\"\n",
    "                        \"pop[i,j]: controller of function j\n",
    "                         pop[i,inputs[k]] controller of function connected to j\"\n",
    "                        \n",
    "                        capacity_ctr[pop[i,j],pop[i,inputs[k]]] += weight[k];  \n",
    "                            \n",
    "                        \"the if below is to verify that the 2 functions are in 2 controllers \n",
    "                        can be connected in one direction\"\n",
    "                            \n",
    "                        if((type_ctr_connection[pop[i,j],pop[i,inputs[k]]] == 2) || \n",
    "                                (type_ctr_connection[pop[i,j],pop[i,inputs[k]]]== 0))\n",
    "                                    if(l==0)  \"function j until now has not violated the \n",
    "                                                connectivty with any of its output connected functions\"\n",
    "                                        l = 1;\n",
    "                                        violate_f[i] += 1;\n",
    "                                    end\n",
    "                            end\n",
    "                    end   \n",
    "                end\n",
    "        \n",
    "                \"verify function j not allocated  can receive data from functions already allocated\"\n",
    "           \n",
    "                inputs = input_f[j,:];\n",
    "                weight = input_weight[j,:];\n",
    "                for k in 1:length(inputs)\n",
    "                    if (weight[k]==0)\n",
    "                        break;\n",
    "                    elseif(length(choixprefere[inputs[k]])==3)  \"if the function that send data to function j is allocated\"\n",
    "                            if(pop[i,j]!=pop[i,inputs[k]]) \"if the functions are not in the same group\"\n",
    "                                capacity_ctr[pop[i,inputs[k]],pop[i,j]] += weight[k];\n",
    "                                if((type_ctr_connection[pop[i,j],pop[i,inputs[k]]] == 1) ||\n",
    "                                    (type_ctr_connection[pop[i,j],pop[i,inputs[k]]]== 0))\n",
    "                                    \"if function j has not violated any constraint of connectivity yet\"\n",
    "                                    if(l==0)\n",
    "                                        l = 1;\n",
    "                                        violate_f[i] += 1;\n",
    "                                    end\n",
    "                                end\n",
    "                            end\n",
    "\n",
    "                    end\n",
    "                end\n",
    "            end\n",
    "            #\n",
    "            \"if function j respect all the connectivity constraints\"\n",
    "            if(l==0)\n",
    "                cost_ind[i] += cost_ctr[pop[i,j]];\n",
    "                degree[i] += G[j,pop[i,j]];\n",
    "            else\n",
    "                cost_ind[i] += 10;\n",
    "            end\n",
    "        end \n",
    "        \"end of second loop\"  \n",
    "        \"calculate the remaining capacity between the controllers\"\n",
    "        capacity_ctr = connection_ctr - capacity_ctr;\n",
    "        for k in 1:nb_ctr\n",
    "            for z in 1:nb_ctr\n",
    "                \"verify if any remain capacity is negative if initially this capacity is not zero\"\n",
    "                if(capacity_ctr[k,z]<0) && (connection_ctr[k,z]!=0)\n",
    "                    violate_capacity[i] += -capacity_ctr[k,z]\n",
    "                end\n",
    "            end\n",
    "        end\n",
    "    end\n",
    "    y =  (cost_ind./minimum(cost_ind));\n",
    "    y = y + violate_capacity./(maximum(violate_capacity)+1);\n",
    "    y = y + violate_f./(minimum(violate_f)+1);\n",
    "\n",
    "    temp = violate_f .* violate_capacity;\n",
    "    \"z is the indices of all the individuals that respect all the constraints\"\n",
    "    z = findall(x-> x==0,temp);\n",
    "    points = zeros(length(z),2)\n",
    "    points[:,1] .= degree[z];\n",
    "    points[:,2] .= cost_ind[z];\n",
    "    return y,points\n",
    "end"
   ]
  },
  {
   "cell_type": "markdown",
   "metadata": {},
   "source": [
    "## Heuristic Initialization"
   ]
  },
  {
   "cell_type": "code",
   "execution_count": 8,
   "metadata": {},
   "outputs": [
    {
     "data": {
      "text/plain": [
       "heuristic_initialization (generic function with 1 method)"
      ]
     },
     "execution_count": 8,
     "metadata": {},
     "output_type": "execute_result"
    }
   ],
   "source": [
    "function heuristic_initialization(G,population_size,initialization_perc,id2,nb_connections)\n",
    "    pop = zeros(Int,taille,collect(size(G))[1]);\n",
    "    \" e is the number of functions allocate to the controllers that have the highest degree between \n",
    "      their available controllers\n",
    "    idx represents the indexes of these functions. These indexes are gotten by decreasing\n",
    "    order sort of the functions based on their number of connections\"\n",
    "    e = initialization_perc*length(id2);\n",
    "    e = convert(Int64, round(e, digits=0));\n",
    "    idx = sortperm(nb_connections)[1:e]; \n",
    "    for j in 1:taille\n",
    "        for i in 1:e\n",
    "            a = argmax(G[id2[idx[i]],:]);\n",
    "            pop[j,id2[idx[i]]] = a[1];\n",
    "        end\n",
    "        for i in 1:size(G,1)\n",
    "            c = findall(x-> x==i,id2[idx]);\n",
    "            if(length(c)==0)\n",
    "                b = findall(x-> x!=0, G[i,1:6]);\n",
    "                id = rand(1:length(b));\n",
    "                pop[j,i] = b[id[1]];\n",
    "            end\n",
    "        end\n",
    "    end\n",
    "    return pop;\n",
    "end\n",
    "        "
   ]
  },
  {
   "cell_type": "markdown",
   "metadata": {},
   "source": [
    "## Selection"
   ]
  },
  {
   "cell_type": "code",
   "execution_count": 9,
   "metadata": {},
   "outputs": [
    {
     "data": {
      "text/plain": [
       "selection (generic function with 1 method)"
      ]
     },
     "execution_count": 9,
     "metadata": {},
     "output_type": "execute_result"
    }
   ],
   "source": [
    "function selection(pop,perc_selection,y)\n",
    "    a = perc_selection*length(y);\n",
    "    a = convert(Int64, round(a, digits=0));\n",
    "    select_pop = zeros(Int,a,collect(size(pop))[2]);\n",
    "    idx = sortperm(-y)[1:a];\n",
    "    for i in 1:length(idx)\n",
    "        select_pop[i,:] = pop[idx[i],:];\n",
    "    end  \n",
    "    return select_pop;\n",
    "end"
   ]
  },
  {
   "cell_type": "markdown",
   "metadata": {},
   "source": [
    "## Crossover"
   ]
  },
  {
   "cell_type": "code",
   "execution_count": 10,
   "metadata": {},
   "outputs": [
    {
     "data": {
      "text/plain": [
       "crossover (generic function with 1 method)"
      ]
     },
     "execution_count": 10,
     "metadata": {},
     "output_type": "execute_result"
    }
   ],
   "source": [
    "function crossover(select_pop,remain_individuals,cross_proba)\n",
    "    cross_pop = zeros(Int,b,collect(size(select_pop))[2]);\n",
    "    i =1;\n",
    "    best_ind = 0.25*size(select_pop,1);\n",
    "    best_ind = convert(Int64, round(best_ind, digits=0));\n",
    "    while(i<remain_individuals)\n",
    "        a = rand(1:best_ind);\n",
    "        parent_1 = select_pop[a,:]\n",
    "        a = rand(best_ind+1:collect(size(select_pop))[1]);\n",
    "        parent_2 = select_pop[a,:]\n",
    "        for j in 1:length(parent_2)\n",
    "            if (rand(Uniform(0, 1))>cross_proba)\n",
    "                cross_pop[i,j] = parent_1[j];\n",
    "                cross_pop[i+1,j] = parent_2[j];\n",
    "            else\n",
    "                cross_pop[i,j] = parent_2[j];\n",
    "                cross_pop[i+1,j] = parent_1[j];\n",
    "            end\n",
    "        end\n",
    "        i += 2;\n",
    "    end\n",
    "    if (remain_individuals%2!=0)\n",
    "        a = rand(1:best_ind);\n",
    "        parent_1 = select_pop[a,:]\n",
    "        a = rand(best_ind+1:collect(size(select_pop))[1]);\n",
    "        parent_2 = select_pop[a,:]\n",
    "        for j in 1:length(parent_2)\n",
    "            if (rand(Uniform(0, 1))>cross_proba)\n",
    "                cross_pop[b,j] = parent_1[j];\n",
    "            else\n",
    "                cross_pop[b,j] = parent_2[j];\n",
    "            end\n",
    "        end\n",
    "    end\n",
    "    new_pop = [select_pop;cross_pop];\n",
    "    return new_pop;\n",
    "end"
   ]
  },
  {
   "cell_type": "markdown",
   "metadata": {},
   "source": [
    "## Mutation"
   ]
  },
  {
   "cell_type": "code",
   "execution_count": 11,
   "metadata": {},
   "outputs": [
    {
     "data": {
      "text/plain": [
       "mutation (generic function with 1 method)"
      ]
     },
     "execution_count": 11,
     "metadata": {},
     "output_type": "execute_result"
    }
   ],
   "source": [
    "function mutation(pop,rate_perc,mut_proba,G,id2)\n",
    "    rate = rate_perc*length(id2);\n",
    "    rate = convert(Int64, round(rate, digits=0));\n",
    "    for i in 1:size(pop,1)\n",
    "        if (rand(Uniform(0, 1)) < mut_proba)\n",
    "            c = sample(1:length(id2),rate, replace = false);\n",
    "            for j in 1:rate\n",
    "                b = findall(x-> x!=0,G[id2[c[j]],1:6]);\n",
    "                a = rand(1:length(b));\n",
    "                while (b[a]==pop[i,id2[c[j]]])\n",
    "                        a = rand(1:length(b));\n",
    "                end\n",
    "                pop[i,id2[c[j]]] = b[a];\n",
    "            end\n",
    "        end\n",
    "    end\n",
    "    return pop;\n",
    "end"
   ]
  },
  {
   "cell_type": "markdown",
   "metadata": {},
   "source": [
    "## max_degree_algo\n",
    "This is the algorithm of the maximization objective. \n",
    "<br> In each generation, evaluation function returns all the points that respect the constraints.\n",
    "<br> These points are added to <b> all_points</b> variable  and returned when the stop condition is satisfied. "
   ]
  },
  {
   "cell_type": "code",
   "execution_count": 12,
   "metadata": {},
   "outputs": [
    {
     "data": {
      "text/plain": [
       "max_degree_algo (generic function with 1 method)"
      ]
     },
     "execution_count": 12,
     "metadata": {},
     "output_type": "execute_result"
    }
   ],
   "source": [
    "function max_degree_algo(population_size,choixprefere,select_perc,initialization_perc,mut_proba,cross_proba,\n",
    "                                        rate_perc,G,id2,type_ctr_connection,nb_iterations,remain_connection_ctr,up_bound,\n",
    "                                        output_f,output_weight,input_f,input_weight,nb_connections,cost_ctr)\n",
    "    remain_individuals = taille - perc*taille;\n",
    "    remain_individuals= Int64(remain_individuals);\n",
    "    pop =heuristic_initialization(G,population_size,initialization_perc,id2,nb_connections);\n",
    "    counter = 0;\n",
    "    all_points = zeros(1,2)\n",
    "    y_best = -10;\n",
    "    while(counter<nb_iterations)\n",
    "        y,points = evaluation_degree(choixprefere,G,pop,type_ctr_connection,remain_connection_ctr,\n",
    "                                                    up_bound,output_f,output_weight,input_f,input_weight,cost_ctr);\n",
    "        all_points = [all_points;points];\n",
    "        if(maximum(y)>y_best)\n",
    "            y_best = maximum(y);\n",
    "            counter = 0;\n",
    "        else\n",
    "            counter += 1;\n",
    "        end\n",
    "        select_pop = selection(pop,select_perc,y);\n",
    "        pop = crossover(select_pop,remain_individuals,cross_proba);\n",
    "        pop = mutation(pop,rate_perc,mut_proba,G,id2);\n",
    "    end\n",
    "    return all_points;   \n",
    "end\n",
    "    "
   ]
  },
  {
   "cell_type": "markdown",
   "metadata": {},
   "source": [
    "## max_degree_algo\n",
    "This is the algorithm of the minimization objective. \n",
    "<br> In each generation, evaluation function returns all the points that respect the constraints.\n",
    "<br> These points are added to <b> all_points</b> variable  and returned when the stop condition is satisfied. "
   ]
  },
  {
   "cell_type": "code",
   "execution_count": 13,
   "metadata": {},
   "outputs": [
    {
     "data": {
      "text/plain": [
       "min_cost_algo (generic function with 1 method)"
      ]
     },
     "execution_count": 13,
     "metadata": {},
     "output_type": "execute_result"
    }
   ],
   "source": [
    "function min_cost_algo(population_size,choixprefere,select_perc,initialization_perc,mut_proba,cross_proba,\n",
    "                                        rate_perc,G,id2,type_ctr_connection,nb_iterations,remain_connection_ctr,up_bound,\n",
    "                                        output_f,output_weight,input_f,input_weight,nb_connections,cost_ctr)\n",
    "    remain_individuals = taille - perc*taille;\n",
    "    remain_individuals= Int64(remain_individuals);\n",
    "    pop =heuristic_initialization(G,population_size,initialization_perc,id2,nb_connections);\n",
    "    counter = 0;\n",
    "    all_points = zeros(1,2)\n",
    "    y_best = 1000;\n",
    "    while(counter<nb_iterations)\n",
    "        y,points = evaluation_cost(choixprefere,G,pop,type_ctr_connection,remain_connection_ctr,\n",
    "                                                    up_bound,output_f,output_weight,input_f,input_weight,cost_ctr);\n",
    "        all_points = [all_points;points];\n",
    "        if(minimum(y)<y_best)\n",
    "            y_best = minimum(y);\n",
    "            counter = 0;\n",
    "        else\n",
    "            counter += 1;\n",
    "        end\n",
    "        select_pop = selection(pop,select_perc,y);\n",
    "        pop = crossover(select_pop,remain_individuals,cross_proba);\n",
    "        pop = mutation(pop,rate_perc,mut_proba,G,id2);\n",
    "    end\n",
    "    return all_points   \n",
    "end\n",
    "    "
   ]
  },
  {
   "cell_type": "markdown",
   "metadata": {},
   "source": [
    "### Read the path of the required files"
   ]
  },
  {
   "cell_type": "code",
   "execution_count": 14,
   "metadata": {},
   "outputs": [],
   "source": [
    "connection_ctr1 =\"C:\\\\Users\\\\lenovo\\\\Desktop\\\\CEA stage\\\\First_approach\\\\Controllers_connection.csv\";\n",
    "F2 =\"C:\\\\Users\\\\lenovo\\\\Desktop\\\\CEA stage\\\\500_case_study\\\\functionsWithDomains1.csv\";\n",
    "controller_parameter_path =\"C:\\\\Users\\\\AH262855\\\\Desktop\\\\Nouveau dossier\\\\First_approach\\\\Donnees_systeme.csv\";"
   ]
  },
  {
   "cell_type": "markdown",
   "metadata": {},
   "source": [
    "### Get the cost vector of the controllers"
   ]
  },
  {
   "cell_type": "code",
   "execution_count": null,
   "metadata": {},
   "outputs": [],
   "source": [
    "controller_parameter1 = read_data(controller_parameter_path);\n",
    "controller_parameter = convert(Matrix,controller_parameter1);\n",
    "cost_ctr = controller_parameter[4,2:size(controller_parameter,2)];"
   ]
  },
  {
   "cell_type": "markdown",
   "metadata": {},
   "source": [
    "### Initialize the tuning parameters"
   ]
  },
  {
   "cell_type": "code",
   "execution_count": null,
   "metadata": {},
   "outputs": [],
   "source": [
    "population_size = 100;\n",
    "select_perc  = 0.5 \n",
    "initialization_perc = 0.2:\n",
    "mut_proba = 0.05;\n",
    "cross_proba = 0.5;\n",
    "nb_iterations = 20;\n",
    "rate_perc = 0.1;"
   ]
  },
  {
   "cell_type": "markdown",
   "metadata": {},
   "source": [
    "## Execution "
   ]
  },
  {
   "cell_type": "markdown",
   "metadata": {},
   "source": [
    "<br> 1. execution of create_features function\n",
    "<br> 2. calculation of uper bound"
   ]
  },
  {
   "cell_type": "code",
   "execution_count": null,
   "metadata": {},
   "outputs": [],
   "source": [
    "G,id1,id2,type_ctr_connection,remain_connection_ctr,output_f,output_weight,input_f,input_weight,nb_connections = \n",
    "                                                                create_features(F2,connection_ctr1);\n",
    "nb_ctr = size(connection_ctr,1);\n",
    "up_bound =0;\n",
    "for j in 1:size(G,1)\n",
    "    up_bound += maximum(G[j,1:nb_ctr]);\n",
    "end\n",
    "new_initialization = zeros(length(sizes));\n",
    "\"up_bound is the uper bound of the study case\n",
    "it is calculated by sum the maximum degree of all the functions\""
   ]
  },
  {
   "cell_type": "markdown",
   "metadata": {},
   "source": [
    "Execution of max_degree_algo\n",
    "<br> The results will be saved in \"csv\" file. This csv file has 2 columns: one for the degree values and one for the cost values of all the returned points."
   ]
  },
  {
   "cell_type": "code",
   "execution_count": null,
   "metadata": {},
   "outputs": [],
   "source": [
    "\" path is the location where the results will be saved\"\n",
    "path_results = \"C:\\\\Users\\\\AH262855\\\\Desktop\\\\Nouveau dossier\\\\two_objectives_results_15000.csv\""
   ]
  },
  {
   "cell_type": "code",
   "execution_count": null,
   "metadata": {},
   "outputs": [],
   "source": [
    "degree_points = max_degree_algo(population_size,choixprefere,select_perc,initialization_perc,mut_proba,cross_proba,\n",
    "                              rate_perc,G,id2,type_ctr_connection,nb_iterations,remain_connection_ctr,up_bound,\n",
    "                              output_f,output_weight,input_f,input_weight,nb_connections,cost_ctr)\n",
    "df = DataFrame( cost =degree_points[2:size(degree_points,1),2], degree = degree_points[2:size(degree_points,1),1]);\n",
    "CSV.write(path_results,df,append = false);"
   ]
  },
  {
   "cell_type": "markdown",
   "metadata": {},
   "source": [
    "Plotting the points obtained by the maximization of degree"
   ]
  },
  {
   "cell_type": "code",
   "execution_count": null,
   "metadata": {},
   "outputs": [],
   "source": [
    "using Plots\n",
    "# plotting the points  \n",
    "c = plot(degree_points[2:size(degree_points,1),2],degree_points[2:size(degree_points,1),1] ,\n",
    "    seriestype = :scatter, title = \"Points obtained by maximizing the degree\");\n",
    "xlabel!(\"cost\"); \n",
    "ylabel!(\"degree\"); \n",
    "plot(c)"
   ]
  },
  {
   "cell_type": "markdown",
   "metadata": {},
   "source": [
    "Execution of min_cost_algo\n",
    "<br> The results will be added to the \"csv\" file created before. "
   ]
  },
  {
   "cell_type": "code",
   "execution_count": null,
   "metadata": {},
   "outputs": [],
   "source": [
    "cost_points = min_cost_algo(population_size,choixprefere,select_perc,initialization_perc,mut_proba,cross_proba,\n",
    "                              rate_perc,G,id2,type_ctr_connection,nb_iterations,remain_connection_ctr,up_bound,\n",
    "                              output_f,output_weight,input_f,input_weight,nb_connections,cost_ctr)\n",
    "df = DataFrame( cost =cost_points[2:size(b,1),2], degree = cost_points[2:size(b,1),1]);\n",
    "CSV.write(path_results,df,append = true);"
   ]
  },
  {
   "cell_type": "markdown",
   "metadata": {},
   "source": [
    "Plotting the points obtained by the maximization of degree"
   ]
  },
  {
   "cell_type": "code",
   "execution_count": null,
   "metadata": {},
   "outputs": [],
   "source": [
    "using Plots\n",
    "# plotting the points  \n",
    "c = plot(cost_points[2:size(cost_points,1),2],cost_points[2:size(cost_points,1),1] ,\n",
    "    seriestype = :scatter, title = \"Points obtained by minimizing the cost\");\n",
    "xlabel!(\"cost\"); \n",
    "ylabel!(\"degree\"); \n",
    "plot(c)"
   ]
  },
  {
   "cell_type": "markdown",
   "metadata": {},
   "source": [
    "## Extraction of the Pareto front"
   ]
  },
  {
   "cell_type": "markdown",
   "metadata": {},
   "source": [
    "First steo is to read the csv file created before then we will plot all points obtained by the execution of 2 algorithms"
   ]
  },
  {
   "cell_type": "code",
   "execution_count": null,
   "metadata": {},
   "outputs": [],
   "source": [
    "pareto = read_data(path_results);\n",
    "pareto = convert(Matrix,pareto);\n",
    "cost_objective = pareto[:,1];\n",
    "degree_objective = pareto[:,2];\n",
    "using Plots\n",
    "# plotting the points  \n",
    "graph = plot(cost_objective,degree_objective ,seriestype = :scatter, title = \"Final mono objective results\");\n",
    "xlabel!(\"cost\");  \n",
    "# naming the y axis \n",
    "ylabel!(\"degree\"); \n",
    "plot(graph)"
   ]
  },
  {
   "cell_type": "markdown",
   "metadata": {},
   "source": [
    "#### Get the indices of the non dominated points\n",
    "A point is considered non dominated, If there is exist another point that has lower cost and higher degree. "
   ]
  },
  {
   "cell_type": "code",
   "execution_count": null,
   "metadata": {},
   "outputs": [],
   "source": [
    "index = [];\n",
    "for i in 1:length(cost_objective)\n",
    "    for j in 1:length(cost_objective)\n",
    "        if (i!=j)\n",
    "            if(cost_objective[i]>=cost_objective[j]) && (degree_objective[i]<=degree_objective[j])\n",
    "               index = append!(index,i);\n",
    "               break;\n",
    "            end\n",
    "        end\n",
    "    end\n",
    "end"
   ]
  },
  {
   "cell_type": "markdown",
   "metadata": {},
   "source": [
    "Delete the non dominated points from the set of points obtained \n",
    "<br> The rest of the points form the Pareto Front\n",
    "<br> Plot the pareto front"
   ]
  },
  {
   "cell_type": "code",
   "execution_count": null,
   "metadata": {},
   "outputs": [],
   "source": [
    "cost_pareto = deleteat!(cost_objective,index);\n",
    "degree_pareto = deleteat!(degree_objective,index);\n",
    "using Plots\n",
    "# plotting the points  \n",
    "pareto_plot = plot(cost_pareto,degree_pareto ,seriestype = :scatter, title = \"Pareto Front\");\n",
    "xlabel!(\"cost\"); \n",
    "# naming the y axis \n",
    "ylabel!(\"degree\"); \n",
    "plot(pareto_plot)"
   ]
  },
  {
   "cell_type": "markdown",
   "metadata": {},
   "source": [
    "Calculating the equation of degree in funct"
   ]
  },
  {
   "cell_type": "code",
   "execution_count": null,
   "metadata": {},
   "outputs": [],
   "source": [
    "using DataFrames, GLM\n",
    " equation = lm(@formula(degree ~ cost), DataFrame(cost = cost_pareto, degree = degree_pareto))"
   ]
  }
 ],
 "metadata": {
  "kernelspec": {
   "display_name": "Julia 1.4.2",
   "language": "julia",
   "name": "julia-1.4"
  },
  "language_info": {
   "file_extension": ".jl",
   "mimetype": "application/julia",
   "name": "julia",
   "version": "1.4.2"
  }
 },
 "nbformat": 4,
 "nbformat_minor": 2
}
